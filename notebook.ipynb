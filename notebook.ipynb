{
 "cells": [
  {
   "cell_type": "code",
   "execution_count": 6,
   "metadata": {},
   "outputs": [],
   "source": [
    "import os\n",
    "import webbrowser\n",
    "import psutil\n",
    "\n",
    "def open_chrome():\n",
    "    webbrowser.open(\"https://www.google.com\")\n",
    "\n",
    "def open_calculator():\n",
    "    os.system(\"calc\")\n",
    "\n",
    "def get_cpu_usage():\n",
    "    return psutil.cpu_percent(interval=1)\n",
    "\n",
    "\n",
    "# print(\"CPU Usage:\", get_cpu_usage(), \"%\")\n",
    "\n",
    "function_bank = {\n",
    "    \"open_chrome\": {\n",
    "        \"function\": open_chrome,\n",
    "        \"description\": \"Open/Start Google Chrome browser\",\n",
    "        \"code\": \"\"\"\n",
    "                   import webbrowser\n",
    "                   def open_chrome():\n",
    "                   webbrowser.open('https://www.google.com')\"\"\"\n",
    "    },\n",
    "\n",
    "    \"open_calculator\": {\n",
    "        \"function\": open_calculator,\n",
    "        \"description\": \"Open/Start/Launch the system calculator application\",\n",
    "        \"code\": \"\"\"def open_calculator():\n",
    "                   import os\n",
    "                   os.system('calc')\"\"\"\n",
    "    },\n",
    "\n",
    "    \"get_cpu_usage\": {\n",
    "        \"function\": get_cpu_usage,\n",
    "        \"description\": \"Get/Retrieve/Check/Show CPU usage of the system\",\n",
    "        \"code\": \"\"\"def get_cpu_usage():\n",
    "                   import psutil\n",
    "                   return psutil.cpu_percent(interval=1)\"\"\"\n",
    "    }\n",
    "}"
   ]
  },
  {
   "cell_type": "code",
   "execution_count": 117,
   "metadata": {},
   "outputs": [],
   "source": [
    "from fastapi import FastAPI, HTTPException\n",
    "from pydantic import BaseModel\n",
    "from function_registry import function_bank\n",
    "from langchain.vectorstores import FAISS\n",
    "from langchain.embeddings import HuggingFaceEmbeddings\n",
    "from langchain.schema import Document\n",
    "from groq import Groq\n",
    "from sentence_transformers import SentenceTransformer\n",
    "import torch\n",
    "\n",
    "app = FastAPI()\n",
    "\n",
    "\n",
    "class QueryRequest(BaseModel):\n",
    "    query: str\n",
    "\n",
    "class Retriever:\n",
    "    def __init__(self):\n",
    "        # self.model=SentenceTransformer(model, device=\"cpu\")\n",
    "        self.embedding_model=None\n",
    "        self.documents=None\n",
    "        self.vector_store=None\n",
    "        self.chat_history=[]\n",
    "\n",
    "    def create_embeddings(self):\n",
    "        self.embedding_model = HuggingFaceEmbeddings(model_name=\"sentence-transformers/all-MiniLM-L6-v2\",model_kwargs={\"device\": \"cpu\"})\n",
    "        self.documents=[\n",
    "            Document(page_content=func[\"description\"],metadata={\"name\":name})\n",
    "            for name, func in function_bank.items()\n",
    "        ]\n",
    "        self.vector_store = FAISS.from_documents(self.documents, self.embedding_model)\n",
    "\n",
    "    def retrieve(self,user_query):\n",
    "        docs=self.vector_store.similarity_search(user_query, k=1)\n",
    "        if docs:\n",
    "            return docs[0].metadata[\"name\"]\n",
    "        return None\n",
    "    \n",
    "    def execute(self,user_query):\n",
    "        function=self.retrieve(user_query)\n",
    "        \n",
    "        if function and function in function_bank:\n",
    "            function_bank[f\"{function}\"][\"function\"]()\n",
    "            return {\"Executed\": function, \"Result\": \"Program Launched\"}\n",
    "        raise HTTPException(status_code=404, detail=\"Function not found.\")\n",
    "    \n",
    "\n",
    "    def update_chat_history(self,user_query,model_response):\n",
    "        self.chat_history.append({\"user\": user_query, \"model\": model_response})\n",
    "        if (len(self.chat_history)>7):\n",
    "            self.chat_history.pop(0)\n",
    "\n",
    "    def retrieve_contextual_response(self,code_to_improve):\n",
    "        context = \"\\n\".join([f\"User: {entry['user']}\\nModel: {entry['model']}\" for entry in self.chat_history])\n",
    "        prompt = f\"Context:\\n{context}\\n\\nNew Query: {code_to_improve}\\nProvide an improved response based on past interactions.\"\n",
    "        return prompt\n",
    "\n",
    "    def custom_function(self,new_query):\n",
    "\n",
    "        return \n",
    "    def Invocation(self,user_query):\n",
    "        function_name=self.retrieve(user_query)\n",
    "\n",
    "        if not function_name:\n",
    "            raise HTTPException(status_code=404, detail=\"No matching function found.\")\n",
    "        \n",
    "        code_to_improve = f\"\"\"{function_bank[function_name][\"code\"]}\"\"\"\n",
    "        prompt = \"Ensure proper imports, error handling, and modularity.\"\n",
    "\n",
    "# Initialize the client\n",
    "        client = Groq(api_key=\"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\")\n",
    "        code_to_improve=self.retrieve_contextual_response(code_to_improve)\n",
    "        # Create a chat completion request\n",
    "        completion = client.chat.completions.create(\n",
    "            model=\"llama-3.3-70b-specdec\",\n",
    "            messages=[\n",
    "                {\"role\": \"system\", \"content\": prompt},\n",
    "                {\"role\": \"user\", \"content\": code_to_improve}\n",
    "            ],\n",
    "            temperature=1,\n",
    "            max_completion_tokens=1024,\n",
    "            top_p=1,\n",
    "            stream=True,\n",
    "            stop=None,\n",
    "        )\n",
    "        response = \"\"\n",
    "        for chunk in completion:\n",
    "            if chunk.choices[0].delta.content:\n",
    "                response += chunk.choices[0].delta.content\n",
    "                # print(chunk.choices[0].delta.content, end=\"\")  # Print as it streams\n",
    "\n",
    "        self.update_chat_history(user_query, response)\n",
    "        return {\"function\": function_name, \"improved_code\": response}\n",
    "        # return response\n",
    "\n",
    "\n",
    "        \n",
    "\n",
    "        \n",
    " # Executes get_cpu_usage()\n"
   ]
  },
  {
   "cell_type": "markdown",
   "metadata": {},
   "source": []
  },
  {
   "cell_type": "code",
   "execution_count": 114,
   "metadata": {},
   "outputs": [],
   "source": [
    "R=Retriever()"
   ]
  },
  {
   "cell_type": "code",
   "execution_count": 108,
   "metadata": {},
   "outputs": [],
   "source": [
    "@app.post(\"/execute\")\n",
    "async def execute_function(request: QueryRequest):\n",
    "    \"\"\"API endpoint to execute a function.\"\"\"\n",
    "    return R.execute(request.query)\n",
    "\n",
    "\n",
    "@app.post(\"/improve_code\")\n",
    "async def improve_code(request: QueryRequest):\n",
    "    \"\"\"API endpoint to retrieve and enhance function code.\"\"\"\n",
    "    return await R.invocation(request.query)\n"
   ]
  },
  {
   "cell_type": "code",
   "execution_count": 115,
   "metadata": {},
   "outputs": [],
   "source": [
    "R.create_embeddings()"
   ]
  },
  {
   "cell_type": "code",
   "execution_count": 116,
   "metadata": {},
   "outputs": [
    {
     "name": "stdout",
     "output_type": "stream",
     "text": [
      "{'Executed': 'open_chrome', 'Result': 'Program Launched'}\n"
     ]
    }
   ],
   "source": [
    "query = \"Launch Web browser\"\n",
    "improved_code = R.execute(query)\n",
    "print(improved_code)"
   ]
  },
  {
   "cell_type": "code",
   "execution_count": 100,
   "metadata": {},
   "outputs": [],
   "source": [
    "output=R.Invocation(\"Open calc\")"
   ]
  },
  {
   "cell_type": "code",
   "execution_count": 102,
   "metadata": {},
   "outputs": [
    {
     "data": {
      "text/plain": [
       "{'function': 'open_calculator',\n",
       " 'improved_code': '**Improved Response: Enhanced Calculator Function**\\n=====================================================\\n\\nThe provided code snippet attempts to launch the system\\'s default calculator application. However, it lacks proper error handling, modularity, and is limited to Windows systems. Here\\'s an improved version of the `open_calculator` function:\\n\\n```python\\nimport os\\nimport sys\\nimport platform\\n\\ndef open_calculator():\\n    \"\"\"\\n    Launches the system\\'s default calculator application.\\n\\n    Raises:\\n        OSError: If the calculator application cannot be found.\\n        RuntimeError: If the operating system is not supported.\\n    \"\"\"\\n    try:\\n        # Determine the calculator command based on the operating system\\n        if platform.system() == \\'Windows\\':\\n            calculator_command = \\'calc\\'\\n        elif platform.system() == \\'Darwin\\':  # macOS\\n            calculator_command = \\'open -a Calculator\\'\\n        elif platform.system() == \\'Linux\\':\\n            # Try to launch the default calculator for Linux distributions\\n            calculator_commands = [\\'gnome-calculator\\', \\'kcalc\\', \\'xclock\\']\\n            for command in calculator_commands:\\n                if os.system(f\"which {command}\") == 0:\\n                    calculator_command = command\\n                    break\\n            else:\\n                raise RuntimeError(\"No supported calculator found on Linux\")\\n        else:\\n            raise RuntimeError(f\"Unsupported operating system: {platform.system()}\")\\n\\n        # Attempt to launch the calculator\\n        os.system(calculator_command)\\n\\n    except OSError as e:\\n        print(f\"Error launching calculator: {e}\", file=sys.stderr)\\n    except RuntimeError as e:\\n        print(f\"Error: {e}\", file=sys.stderr)\\n\\n# Example usage\\nif __name__ == \"__main__\":\\n    open_calculator()\\n```\\n\\n**Key Improvements:**\\n\\n1.  **Modularity**: The calculator command is now determined based on the operating system, making the function more portable.\\n2.  **Error Handling**: The function now catches `OSError` and `RuntimeError` exceptions and provides meaningful error messages for different scenarios.\\n3.  **Docstrings**: A docstring has been added to describe the function\\'s purpose and behavior.\\n4.  **Example Usage**: A main guard has been added to demonstrate how to call the `open_calculator` function.\\n5.  **Linux Support**: Added support for multiple calculator applications on Linux distributions.\\n6.  **Unsupported Operating Systems**: The function now raises a `RuntimeError` for unsupported operating systems.\\n\\n**Future Enhancements:**\\n\\n1.  **Supported Platforms**: Consider adding support for more operating systems or calculator applications.\\n2.  **Custom Calculator Command**: Allow users to specify a custom calculator command as a function argument or environment variable.\\n3.  **Calculator Detection**: Implement a mechanism to detect the default calculator application on the system, rather than relying on hardcoded commands.\\n4.  **Cross-Platform Calculator**: Develop a cross-platform calculator application that can be launched from the function, ensuring a consistent user experience across different operating systems.'}"
      ]
     },
     "execution_count": 102,
     "metadata": {},
     "output_type": "execute_result"
    }
   ],
   "source": [
    "output"
   ]
  },
  {
   "cell_type": "code",
   "execution_count": 103,
   "metadata": {},
   "outputs": [],
   "source": [
    "output=output['improved_code']"
   ]
  },
  {
   "cell_type": "code",
   "execution_count": 55,
   "metadata": {},
   "outputs": [
    {
     "data": {
      "text/plain": [
       "[{'user': 'Launch my Chrome',\n",
       "  'model': '### Improved Code with Error Handling and Modularity\\n\\nHere\\'s a refactored version of your code with proper imports, error handling, and modularity:\\n\\n```python\\nimport webbrowser\\n\\ndef open_browser(url):\\n    \"\"\"\\n    Opens a URL in the default browser.\\n\\n    Args:\\n        url (str): The URL to open.\\n\\n    Returns:\\n        bool: True if successful, False otherwise.\\n    \"\"\"\\n    try:\\n        webbrowser.open(url)\\n        return True\\n    except webbrowser.Error as e:\\n        print(f\"Error opening browser: {e}\")\\n        return False\\n\\ndef main():\\n    url = \\'https://www.google.com\\'\\n    if open_browser(url):\\n        print(f\"Opened {url} successfully.\")\\n    else:\\n        print(f\"Failed to open {url}.\")\\n\\nif __name__ == \"__main__\":\\n    main()\\n```\\n\\n### Changes Made\\n\\n1.  **Modularized the code**: The `open_browser` function now takes a URL as an argument, making it reusable.\\n2.  **Added error handling**: The `open_browser` function now catches any errors that occur when trying to open the browser.\\n3.  **Improved code organization**: The `main` function now contains the main program logic, and the `if __name__ == \"__main__\":` block ensures that the `main` function is only executed when the script is run directly.\\n4.  **Added documentation**: Docstrings have been added to explain what each function does and what arguments it takes.\\n\\n### Example Usage\\n\\nTo use this code, simply run the script. You can modify the `url` variable in the `main` function to open a different URL. If you want to use this code in a larger program, you can import the `open_browser` function and use it to open URLs as needed.'},\n",
       " {'user': 'Open calc',\n",
       "  'model': '### Improved Code with Error Handling and Modularity\\n\\nHere\\'s a refactored version of your code with proper imports, error handling, and modularity:\\n\\n```python\\nimport os\\nimport platform\\n\\ndef open_calculator():\\n    \"\"\"\\n    Opens the system\\'s calculator application.\\n\\n    Returns:\\n        bool: True if successful, False otherwise.\\n    \"\"\"\\n    try:\\n        # Determine the operating system and open the calculator accordingly\\n        if platform.system() == \\'Windows\\':\\n            os.system(\\'calc\\')\\n        elif platform.system() == \\'Darwin\\':  # macOS\\n            os.system(\\'open /Applications/Calculator.app\\')\\n        else:  # Linux\\n            os.system(\\'gnome-calculator\\')\\n        return True\\n    except Exception as e:\\n        print(f\"Error opening calculator: {e}\")\\n        return False\\n\\ndef main():\\n    if open_calculator():\\n        print(\"Opened calculator successfully.\")\\n    else:\\n        print(\"Failed to open calculator.\")\\n\\nif __name__ == \"__main__\":\\n    main()\\n```\\n\\n### Changes Made\\n\\n1.  **Added error handling**: The `open_calculator` function now catches any exceptions that occur when trying to open the calculator.\\n2.  **Improved code organization**: The `main` function now contains the main program logic, and the `if __name__ == \"__main__\":` block ensures that the `main` function is only executed when the script is run directly.\\n3.  **Added cross-platform support**: The `open_calculator` function now supports multiple operating systems, including Windows, macOS, and Linux.\\n4.  **Added documentation**: Docstrings have been added to explain what the `open_calculator` function does.\\n\\n### Example Usage\\n\\nTo use this code, simply run the script. The calculator application will open on your system. If you want to use this code in a larger program, you can import the `open_calculator` function and use it to open the calculator as needed.\\n\\n### Additional Notes\\n\\n*   This code uses the `os` module to interact with the operating system and open the calculator application.\\n*   The `platform` module is used to determine the operating system and open the correct calculator application.\\n*   The `try-except` block is used to catch any exceptions that occur when trying to open the calculator, and print an error message if an exception occurs.'}]"
      ]
     },
     "execution_count": 55,
     "metadata": {},
     "output_type": "execute_result"
    }
   ],
   "source": [
    "R.chat_history"
   ]
  },
  {
   "cell_type": "code",
   "execution_count": null,
   "metadata": {},
   "outputs": [],
   "source": []
  },
  {
   "cell_type": "code",
   "execution_count": 48,
   "metadata": {},
   "outputs": [],
   "source": [
    "def retrieve_contextual_response(user_query):\n",
    "    context = \"\\n\".join([f\"User: {entry['user']}\\nModel: {entry['model']}\" for entry in R.chat_history])\n",
    "    prompt = f\"Context:\\n{context}\\n\\nNew Query: {user_query}\\nProvide an improved response based on past interactions.\"\n",
    "    return prompt\n"
   ]
  },
  {
   "cell_type": "code",
   "execution_count": 50,
   "metadata": {},
   "outputs": [],
   "source": [
    "output=retrieve_contextual_response(\"Check cpu usage\")"
   ]
  },
  {
   "cell_type": "code",
   "execution_count": 8,
   "metadata": {},
   "outputs": [
    {
     "name": "stdout",
     "output_type": "stream",
     "text": [
      "\n",
      "                   import webbrowser\n",
      "                   def open_chrome():\n",
      "                   webbrowser.open('https://www.google.com')\n"
     ]
    }
   ],
   "source": [
    "function_name=R.retrieve(\"Launch Google chrome\")\n",
    "print(function_bank[function_name][\"code\"])"
   ]
  },
  {
   "cell_type": "code",
   "execution_count": 104,
   "metadata": {},
   "outputs": [
    {
     "name": "stdout",
     "output_type": "stream",
     "text": [
      "**Improved Response: Enhanced Calculator Function**\n",
      "=====================================================\n",
      "\n",
      "The provided code snippet attempts to launch the system's default calculator application. However, it lacks proper error handling, modularity, and is limited to Windows systems. Here's an improved version of the `open_calculator` function:\n",
      "\n",
      "```python\n",
      "import os\n",
      "import sys\n",
      "import platform\n",
      "\n",
      "def open_calculator():\n",
      "    \"\"\"\n",
      "    Launches the system's default calculator application.\n",
      "\n",
      "    Raises:\n",
      "        OSError: If the calculator application cannot be found.\n",
      "        RuntimeError: If the operating system is not supported.\n",
      "    \"\"\"\n",
      "    try:\n",
      "        # Determine the calculator command based on the operating system\n",
      "        if platform.system() == 'Windows':\n",
      "            calculator_command = 'calc'\n",
      "        elif platform.system() == 'Darwin':  # macOS\n",
      "            calculator_command = 'open -a Calculator'\n",
      "        elif platform.system() == 'Linux':\n",
      "            # Try to launch the default calculator for Linux distributions\n",
      "            calculator_commands = ['gnome-calculator', 'kcalc', 'xclock']\n",
      "            for command in calculator_commands:\n",
      "                if os.system(f\"which {command}\") == 0:\n",
      "                    calculator_command = command\n",
      "                    break\n",
      "            else:\n",
      "                raise RuntimeError(\"No supported calculator found on Linux\")\n",
      "        else:\n",
      "            raise RuntimeError(f\"Unsupported operating system: {platform.system()}\")\n",
      "\n",
      "        # Attempt to launch the calculator\n",
      "        os.system(calculator_command)\n",
      "\n",
      "    except OSError as e:\n",
      "        print(f\"Error launching calculator: {e}\", file=sys.stderr)\n",
      "    except RuntimeError as e:\n",
      "        print(f\"Error: {e}\", file=sys.stderr)\n",
      "\n",
      "# Example usage\n",
      "if __name__ == \"__main__\":\n",
      "    open_calculator()\n",
      "```\n",
      "\n",
      "**Key Improvements:**\n",
      "\n",
      "1.  **Modularity**: The calculator command is now determined based on the operating system, making the function more portable.\n",
      "2.  **Error Handling**: The function now catches `OSError` and `RuntimeError` exceptions and provides meaningful error messages for different scenarios.\n",
      "3.  **Docstrings**: A docstring has been added to describe the function's purpose and behavior.\n",
      "4.  **Example Usage**: A main guard has been added to demonstrate how to call the `open_calculator` function.\n",
      "5.  **Linux Support**: Added support for multiple calculator applications on Linux distributions.\n",
      "6.  **Unsupported Operating Systems**: The function now raises a `RuntimeError` for unsupported operating systems.\n",
      "\n",
      "**Future Enhancements:**\n",
      "\n",
      "1.  **Supported Platforms**: Consider adding support for more operating systems or calculator applications.\n",
      "2.  **Custom Calculator Command**: Allow users to specify a custom calculator command as a function argument or environment variable.\n",
      "3.  **Calculator Detection**: Implement a mechanism to detect the default calculator application on the system, rather than relying on hardcoded commands.\n",
      "4.  **Cross-Platform Calculator**: Develop a cross-platform calculator application that can be launched from the function, ensuring a consistent user experience across different operating systems.\n"
     ]
    }
   ],
   "source": [
    "for line in output.splitlines():\n",
    "    print(line)"
   ]
  },
  {
   "cell_type": "markdown",
   "metadata": {},
   "source": [
    "API Integration for Invocation"
   ]
  },
  {
   "cell_type": "code",
   "execution_count": 9,
   "metadata": {},
   "outputs": [
    {
     "name": "stdout",
     "output_type": "stream",
     "text": [
      "### Improved Code\n",
      "\n",
      "Here's a more robust and maintainable version of your code. This version includes proper imports, error handling, and modularity.\n",
      "\n",
      "```python\n",
      "# Import the required module\n",
      "import webbrowser\n",
      "\n",
      "# Define a function to open a URL in the default browser\n",
      "def open_url(url):\n",
      "    \"\"\"\n",
      "    Open a URL in the default browser.\n",
      "    \n",
      "    Args:\n",
      "        url (str): The URL to be opened.\n",
      "    \n",
      "    Returns:\n",
      "        None\n",
      "    \"\"\"\n",
      "    try:\n",
      "        # Attempt to open the URL\n",
      "        webbrowser.open(url)\n",
      "    except Exception as e:\n",
      "        # Handle any exceptions that occur\n",
      "        print(f\"An error occurred: {e}\")\n",
      "\n",
      "# Define a function to open Google in Chrome\n",
      "def open_google():\n",
      "    \"\"\"\n",
      "    Open Google in the default browser.\n",
      "    \n",
      "    Returns:\n",
      "        None\n",
      "    \"\"\"\n",
      "    url = 'https://www.google.com'\n",
      "    open_url(url)\n",
      "\n",
      "# Example usage:\n",
      "if __name__ == \"__main__\":\n",
      "    open_google()\n",
      "```\n",
      "\n",
      "### Changes Made\n",
      "\n",
      "1. **Added a docstring**: The `open_url` function now has a docstring that explains what the function does, its arguments, and its return values.\n",
      "2. **Improved error handling**: The `open_url` function now includes a try-except block to handle any exceptions that may occur when attempting to open the URL.\n",
      "3. **Modularized the code**: The code has been modularized by defining separate functions for opening a URL and opening Google. This makes the code more reusable and maintainable.\n",
      "4. **Added example usage**: An example usage of the `open_google` function has been added to demonstrate how to use the code.\n",
      "5. **Used a main guard**: The code now includes a main guard (`if __name__ == \"__main__\":`) to ensure that the example usage only runs when the script is executed directly, not when it's imported as a module.\n",
      "\n",
      "### Notes\n",
      "\n",
      "* The `webbrowser` module will open the URL in the default browser, not necessarily Chrome.\n",
      "* To open the URL in a specific browser (e.g., Chrome), you would need to use a more complex approach, such as using the `subprocess` module or a library like `selenium`.\n",
      "* This code assumes that the default browser is properly configured and functional. If the default browser is not set or is not functioning correctly, the `webbrowser` module may not work as expected."
     ]
    }
   ],
   "source": [
    "from groq import Groq\n",
    "\n",
    "# Define the function to improve (retrieved from elsewhere)\n",
    "code_to_improve = f\"\"\"{function_bank[function_name][\"code\"]}\"\"\"\n",
    "\n",
    "\n",
    "# Define the improvement prompt separately\n",
    "prompt = \"Ensure proper imports, error handling, and modularity.\"\n",
    "\n",
    "# Initialize the client\n",
    "client = Groq(api_key=\"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\")\n",
    "\n",
    "# Create a chat completion request\n",
    "completion = client.chat.completions.create(\n",
    "    model=\"llama-3.3-70b-specdec\",\n",
    "    messages=[\n",
    "        {\"role\": \"system\", \"content\": prompt},\n",
    "        {\"role\": \"user\", \"content\": code_to_improve}\n",
    "    ],\n",
    "    temperature=1,\n",
    "    max_completion_tokens=1024,\n",
    "    top_p=1,\n",
    "    stream=True,\n",
    "    stop=None,\n",
    ")\n",
    "\n",
    "# Stream and print the improved code\n",
    "for chunk in completion:\n",
    "    print(chunk.choices[0].delta.content or \"\", end=\"\")\n"
   ]
  },
  {
   "cell_type": "code",
   "execution_count": null,
   "metadata": {},
   "outputs": [],
   "source": []
  }
 ],
 "metadata": {
  "kernelspec": {
   "display_name": "base",
   "language": "python",
   "name": "python3"
  },
  "language_info": {
   "codemirror_mode": {
    "name": "ipython",
    "version": 3
   },
   "file_extension": ".py",
   "mimetype": "text/x-python",
   "name": "python",
   "nbconvert_exporter": "python",
   "pygments_lexer": "ipython3",
   "version": "3.12.3"
  }
 },
 "nbformat": 4,
 "nbformat_minor": 2
}
